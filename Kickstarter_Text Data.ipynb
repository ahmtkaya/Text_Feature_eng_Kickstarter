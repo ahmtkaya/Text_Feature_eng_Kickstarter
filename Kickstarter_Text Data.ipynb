{
 "cells": [
  {
   "cell_type": "markdown",
   "metadata": {},
   "source": [
    "# the effect of project titles on campaign success-Kickstarter Data Set"
   ]
  },
  {
   "cell_type": "markdown",
   "metadata": {},
   "source": [
    "- For the purpose of work, we are interested in building an algorithim that can predict if a campaign will be\n",
    "successful in receiving full funding. We have a hypothesis that the information in the free text title may allow us to go\n",
    "beyond the predicitive powers of the other variable columns. This case study is within the feature engineering stage, and a\n",
    "fully vetted algorithm is not needed for completion"
   ]
  },
  {
   "cell_type": "markdown",
   "metadata": {},
   "source": [
    "- We will build the algorithms and create 3 features to predict success or fail."
   ]
  },
  {
   "cell_type": "markdown",
   "metadata": {},
   "source": [
    "### Look inside the data"
   ]
  },
  {
   "cell_type": "code",
   "execution_count": 1,
   "metadata": {},
   "outputs": [],
   "source": [
    "import pandas as pd\n",
    "import numpy as np\n",
    "import matplotlib.pyplot as plt"
   ]
  },
  {
   "cell_type": "code",
   "execution_count": 17,
   "metadata": {},
   "outputs": [],
   "source": [
    "df=pd.read_excel('Kickstarter_data.xlsx')"
   ]
  },
  {
   "cell_type": "code",
   "execution_count": 18,
   "metadata": {},
   "outputs": [
    {
     "data": {
      "text/plain": [
       "(110815, 15)"
      ]
     },
     "execution_count": 18,
     "metadata": {},
     "output_type": "execute_result"
    }
   ],
   "source": [
    "df.shape"
   ]
  },
  {
   "cell_type": "code",
   "execution_count": 4,
   "metadata": {},
   "outputs": [
    {
     "data": {
      "text/plain": [
       "Index(['ID', 'name', 'category', 'main_category', 'currency', 'deadline',\n",
       "       'goal', 'launched', 'pledged', 'state', 'backers', 'country',\n",
       "       'usd pledged', 'usd_pledged_real', 'usd_goal_real'],\n",
       "      dtype='object')"
      ]
     },
     "execution_count": 4,
     "metadata": {},
     "output_type": "execute_result"
    }
   ],
   "source": [
    "df.columns"
   ]
  },
  {
   "cell_type": "code",
   "execution_count": 19,
   "metadata": {},
   "outputs": [
    {
     "data": {
      "text/plain": [
       "ID                    0\n",
       "name                 13\n",
       "category              0\n",
       "main_category         0\n",
       "currency              0\n",
       "deadline              0\n",
       "goal                  0\n",
       "launched              0\n",
       "pledged               0\n",
       "state                 0\n",
       "backers               0\n",
       "country               0\n",
       "usd pledged         816\n",
       "usd_pledged_real      0\n",
       "usd_goal_real         0\n",
       "dtype: int64"
      ]
     },
     "execution_count": 19,
     "metadata": {},
     "output_type": "execute_result"
    }
   ],
   "source": [
    "df.isna().sum()"
   ]
  },
  {
   "cell_type": "code",
   "execution_count": 6,
   "metadata": {},
   "outputs": [
    {
     "data": {
      "text/html": [
       "<div>\n",
       "<style scoped>\n",
       "    .dataframe tbody tr th:only-of-type {\n",
       "        vertical-align: middle;\n",
       "    }\n",
       "\n",
       "    .dataframe tbody tr th {\n",
       "        vertical-align: top;\n",
       "    }\n",
       "\n",
       "    .dataframe thead th {\n",
       "        text-align: right;\n",
       "    }\n",
       "</style>\n",
       "<table border=\"1\" class=\"dataframe\">\n",
       "  <thead>\n",
       "    <tr style=\"text-align: right;\">\n",
       "      <th></th>\n",
       "      <th>ID</th>\n",
       "      <th>name</th>\n",
       "      <th>category</th>\n",
       "      <th>main_category</th>\n",
       "      <th>currency</th>\n",
       "      <th>deadline</th>\n",
       "      <th>goal</th>\n",
       "      <th>launched</th>\n",
       "      <th>pledged</th>\n",
       "      <th>state</th>\n",
       "      <th>backers</th>\n",
       "      <th>country</th>\n",
       "      <th>usd pledged</th>\n",
       "      <th>usd_pledged_real</th>\n",
       "      <th>usd_goal_real</th>\n",
       "    </tr>\n",
       "  </thead>\n",
       "  <tbody>\n",
       "    <tr>\n",
       "      <th>0</th>\n",
       "      <td>1015685046</td>\n",
       "      <td>Organic Tattoo remains 10 days (Self use &amp; cus...</td>\n",
       "      <td>Accessories</td>\n",
       "      <td>Fashion</td>\n",
       "      <td>CAD</td>\n",
       "      <td>2016-01-01</td>\n",
       "      <td>6000</td>\n",
       "      <td>2015-12-07 18:21:00</td>\n",
       "      <td>100.0</td>\n",
       "      <td>failed</td>\n",
       "      <td>2</td>\n",
       "      <td>CA</td>\n",
       "      <td>74.84</td>\n",
       "      <td>70.89</td>\n",
       "      <td>4253.51</td>\n",
       "    </tr>\n",
       "    <tr>\n",
       "      <th>1</th>\n",
       "      <td>1019043170</td>\n",
       "      <td>Handcrafted leather wallet | key holder | card...</td>\n",
       "      <td>Accessories</td>\n",
       "      <td>Fashion</td>\n",
       "      <td>EUR</td>\n",
       "      <td>2016-01-01</td>\n",
       "      <td>2000</td>\n",
       "      <td>2015-12-11 10:52:00</td>\n",
       "      <td>2102.0</td>\n",
       "      <td>successful</td>\n",
       "      <td>48</td>\n",
       "      <td>BE</td>\n",
       "      <td>2314.01</td>\n",
       "      <td>2282.97</td>\n",
       "      <td>2172.19</td>\n",
       "    </tr>\n",
       "    <tr>\n",
       "      <th>2</th>\n",
       "      <td>1036288991</td>\n",
       "      <td>The Liaisons:  a new twist on the old standards</td>\n",
       "      <td>Jazz</td>\n",
       "      <td>Music</td>\n",
       "      <td>USD</td>\n",
       "      <td>2016-01-01</td>\n",
       "      <td>5000</td>\n",
       "      <td>2015-11-09 20:12:00</td>\n",
       "      <td>5630.0</td>\n",
       "      <td>successful</td>\n",
       "      <td>116</td>\n",
       "      <td>US</td>\n",
       "      <td>5630.00</td>\n",
       "      <td>5630.00</td>\n",
       "      <td>5000.00</td>\n",
       "    </tr>\n",
       "    <tr>\n",
       "      <th>3</th>\n",
       "      <td>1045749249</td>\n",
       "      <td>The Many Encounters of Bosley Bear</td>\n",
       "      <td>Children's Books</td>\n",
       "      <td>Publishing</td>\n",
       "      <td>USD</td>\n",
       "      <td>2016-01-01</td>\n",
       "      <td>20000</td>\n",
       "      <td>2015-11-24 02:08:00</td>\n",
       "      <td>101.0</td>\n",
       "      <td>failed</td>\n",
       "      <td>2</td>\n",
       "      <td>US</td>\n",
       "      <td>101.00</td>\n",
       "      <td>101.00</td>\n",
       "      <td>20000.00</td>\n",
       "    </tr>\n",
       "    <tr>\n",
       "      <th>4</th>\n",
       "      <td>1048577059</td>\n",
       "      <td>Swift &amp; Co | Innovative Men's Footwear</td>\n",
       "      <td>Footwear</td>\n",
       "      <td>Fashion</td>\n",
       "      <td>GBP</td>\n",
       "      <td>2016-01-01</td>\n",
       "      <td>40000</td>\n",
       "      <td>2015-11-17 12:30:00</td>\n",
       "      <td>2246.0</td>\n",
       "      <td>failed</td>\n",
       "      <td>19</td>\n",
       "      <td>GB</td>\n",
       "      <td>3416.59</td>\n",
       "      <td>3273.48</td>\n",
       "      <td>58298.84</td>\n",
       "    </tr>\n",
       "  </tbody>\n",
       "</table>\n",
       "</div>"
      ],
      "text/plain": [
       "           ID                                               name  \\\n",
       "0  1015685046  Organic Tattoo remains 10 days (Self use & cus...   \n",
       "1  1019043170  Handcrafted leather wallet | key holder | card...   \n",
       "2  1036288991    The Liaisons:  a new twist on the old standards   \n",
       "3  1045749249                 The Many Encounters of Bosley Bear   \n",
       "4  1048577059             Swift & Co | Innovative Men's Footwear   \n",
       "\n",
       "           category main_category currency   deadline   goal  \\\n",
       "0       Accessories       Fashion      CAD 2016-01-01   6000   \n",
       "1       Accessories       Fashion      EUR 2016-01-01   2000   \n",
       "2              Jazz         Music      USD 2016-01-01   5000   \n",
       "3  Children's Books    Publishing      USD 2016-01-01  20000   \n",
       "4          Footwear       Fashion      GBP 2016-01-01  40000   \n",
       "\n",
       "             launched  pledged       state  backers country  usd pledged  \\\n",
       "0 2015-12-07 18:21:00    100.0      failed        2      CA        74.84   \n",
       "1 2015-12-11 10:52:00   2102.0  successful       48      BE      2314.01   \n",
       "2 2015-11-09 20:12:00   5630.0  successful      116      US      5630.00   \n",
       "3 2015-11-24 02:08:00    101.0      failed        2      US       101.00   \n",
       "4 2015-11-17 12:30:00   2246.0      failed       19      GB      3416.59   \n",
       "\n",
       "   usd_pledged_real  usd_goal_real  \n",
       "0             70.89        4253.51  \n",
       "1           2282.97        2172.19  \n",
       "2           5630.00        5000.00  \n",
       "3            101.00       20000.00  \n",
       "4           3273.48       58298.84  "
      ]
     },
     "execution_count": 6,
     "metadata": {},
     "output_type": "execute_result"
    }
   ],
   "source": [
    "df.head()"
   ]
  },
  {
   "cell_type": "code",
   "execution_count": 7,
   "metadata": {},
   "outputs": [
    {
     "data": {
      "text/plain": [
       "main_category\n",
       "Art              7587\n",
       "Comics           3871\n",
       "Crafts           3385\n",
       "Dance             817\n",
       "Design          11888\n",
       "Fashion          8405\n",
       "Film & Video    12657\n",
       "Food             7152\n",
       "Games           13884\n",
       "Journalism       1511\n",
       "Music           10864\n",
       "Photography      2418\n",
       "Publishing      11072\n",
       "Technology      13249\n",
       "Theater          2055\n",
       "Name: currency, dtype: int64"
      ]
     },
     "execution_count": 7,
     "metadata": {},
     "output_type": "execute_result"
    }
   ],
   "source": [
    "df.groupby('main_category')['currency'].count()"
   ]
  },
  {
   "cell_type": "code",
   "execution_count": 8,
   "metadata": {},
   "outputs": [],
   "source": [
    "import matplotlib.pyplot as plt"
   ]
  },
  {
   "cell_type": "code",
   "execution_count": 9,
   "metadata": {},
   "outputs": [
    {
     "data": {
      "text/plain": [
       "<matplotlib.axes._subplots.AxesSubplot at 0x23fd5c69518>"
      ]
     },
     "execution_count": 9,
     "metadata": {},
     "output_type": "execute_result"
    },
    {
     "data": {
      "image/png": "[encoded data removed]",
      "text/plain": [
       "<Figure size 432x288 with 1 Axes>"
      ]
     },
     "metadata": {
      "needs_background": "light"
     },
     "output_type": "display_data"
    }
   ],
   "source": [
    "df.groupby('main_category')['currency'].count().plot('bar')"
   ]
  },
  {
   "cell_type": "code",
   "execution_count": 10,
   "metadata": {},
   "outputs": [
    {
     "data": {
      "text/plain": [
       "<matplotlib.axes._subplots.AxesSubplot at 0x23fdb2102b0>"
      ]
     },
     "execution_count": 10,
     "metadata": {},
     "output_type": "execute_result"
    },
    {
     "data": {
      "image/png": "[encoded data removed]",
      "text/plain": [
       "<Figure size 432x288 with 1 Axes>"
      ]
     },
     "metadata": {
      "needs_background": "light"
     },
     "output_type": "display_data"
    }
   ],
   "source": [
    "# main category frequency\n",
    "pd.Series(df['main_category']).value_counts().plot('bar')"
   ]
  },
  {
   "cell_type": "code",
   "execution_count": 11,
   "metadata": {},
   "outputs": [
    {
     "data": {
      "text/plain": [
       "<matplotlib.axes._subplots.AxesSubplot at 0x23fdb264470>"
      ]
     },
     "execution_count": 11,
     "metadata": {},
     "output_type": "execute_result"
    },
    {
     "data": {
      "image/png": "[encoded data removed]",
      "text/plain": [
       "<Figure size 432x288 with 1 Axes>"
      ]
     },
     "metadata": {
      "needs_background": "light"
     },
     "output_type": "display_data"
    }
   ],
   "source": [
    "pd.Series(df[df.state=='failed']['main_category']).value_counts().plot('bar')"
   ]
  },
  {
   "cell_type": "code",
   "execution_count": 12,
   "metadata": {},
   "outputs": [
    {
     "data": {
      "text/plain": [
       "<matplotlib.axes._subplots.AxesSubplot at 0x23fdc3cc780>"
      ]
     },
     "execution_count": 12,
     "metadata": {},
     "output_type": "execute_result"
    },
    {
     "data": {
      "image/png": "[encoded data removed]",
      "text/plain": [
       "<Figure size 432x288 with 1 Axes>"
      ]
     },
     "metadata": {
      "needs_background": "light"
     },
     "output_type": "display_data"
    }
   ],
   "source": [
    "pd.Series(df[df.state=='successful']['main_category']).value_counts().plot('bar')"
   ]
  },
  {
   "cell_type": "code",
   "execution_count": 15,
   "metadata": {},
   "outputs": [
    {
     "data": {
      "text/plain": [
       "<Figure size 288x288 with 0 Axes>"
      ]
     },
     "execution_count": 15,
     "metadata": {},
     "output_type": "execute_result"
    },
    {
     "data": {
      "image/png": "[encoded data removed]",
      "text/plain": [
       "<Figure size 720x720 with 1 Axes>"
      ]
     },
     "metadata": {},
     "output_type": "display_data"
    },
    {
     "data": {
      "text/plain": [
       "<Figure size 288x288 with 0 Axes>"
      ]
     },
     "metadata": {},
     "output_type": "display_data"
    }
   ],
   "source": [
    "pd.Series(df['state']).value_counts().plot.pie(figsize=(10, 10), labeldistance=1.1,\n",
    "autopct='%1.1f%%', startangle=300)\n",
    "plt.figure(figsize=plt.figaspect(1))"
   ]
  },
  {
   "cell_type": "code",
   "execution_count": 16,
   "metadata": {},
   "outputs": [],
   "source": [
    "import plotly.plotly as py\n",
    "import plotly.graph_objs as go"
   ]
  },
  {
   "cell_type": "code",
   "execution_count": 17,
   "metadata": {},
   "outputs": [
    {
     "name": "stdout",
     "output_type": "stream",
     "text": [
      "Index(['canceled', 'failed', 'live', 'successful', 'suspended', 'undefined'], dtype='object', name='state')\n"
     ]
    }
   ],
   "source": [
    "print(df.groupby('state')['currency'].count().index)"
   ]
  },
  {
   "cell_type": "code",
   "execution_count": 18,
   "metadata": {},
   "outputs": [
    {
     "name": "stdout",
     "output_type": "stream",
     "text": [
      "[13178 58155     7 38172   707   596]\n"
     ]
    }
   ],
   "source": [
    "print(df.groupby('state')['currency'].count().values)"
   ]
  },
  {
   "cell_type": "code",
   "execution_count": 20,
   "metadata": {},
   "outputs": [
    {
     "name": "stderr",
     "output_type": "stream",
     "text": [
      "C:\\Users\\AKAYA\\Anaconda\\lib\\site-packages\\IPython\\core\\display.py:689: UserWarning:\n",
      "\n",
      "Consider using IPython.display.IFrame instead\n",
      "\n"
     ]
    },
    {
     "data": {
      "text/html": [
       "<iframe id=\"igraph\" scrolling=\"no\" style=\"border:none;\" seamless=\"seamless\" src=\"https://plot.ly/~ahmetkaya0107/254.embed\" height=\"525px\" width=\"100%\"></iframe>"
      ],
      "text/plain": [
       "<plotly.tools.PlotlyDisplay object>"
      ]
     },
     "execution_count": 20,
     "metadata": {},
     "output_type": "execute_result"
    }
   ],
   "source": [
    "labels =['canceled', 'failed', 'live', 'successful', 'suspended', 'undefined']\n",
    "values =[13178, 58155, 7, 38172, 707, 596]\n",
    "\n",
    "trace = go.Pie(labels=labels, values=values)\n",
    "\n",
    "py.iplot([trace], filename='state')"
   ]
  },
  {
   "cell_type": "code",
   "execution_count": 21,
   "metadata": {},
   "outputs": [
    {
     "data": {
      "text/plain": [
       "Technology      10686\n",
       "Games            8328\n",
       "Film & Video     8215\n",
       "Design           7367\n",
       "Publishing       7309\n",
       "Fashion          6266\n",
       "Music            6230\n",
       "Food             5599\n",
       "Art              4546\n",
       "Crafts           2559\n",
       "Photography      1579\n",
       "Comics           1510\n",
       "Journalism       1237\n",
       "Theater           875\n",
       "Dance             337\n",
       "Name: main_category, dtype: int64"
      ]
     },
     "execution_count": 21,
     "metadata": {},
     "output_type": "execute_result"
    }
   ],
   "source": [
    "pd.Series(df[df.state!='successful']['main_category']).value_counts()"
   ]
  },
  {
   "cell_type": "code",
   "execution_count": 22,
   "metadata": {},
   "outputs": [
    {
     "data": {
      "text/plain": [
       "Games           13884\n",
       "Technology      13249\n",
       "Film & Video    12657\n",
       "Design          11888\n",
       "Publishing      11072\n",
       "Music           10864\n",
       "Fashion          8405\n",
       "Art              7587\n",
       "Food             7152\n",
       "Comics           3871\n",
       "Crafts           3385\n",
       "Photography      2418\n",
       "Theater          2055\n",
       "Journalism       1511\n",
       "Dance             817\n",
       "Name: main_category, dtype: int64"
      ]
     },
     "execution_count": 22,
     "metadata": {},
     "output_type": "execute_result"
    }
   ],
   "source": [
    "pd.Series(df['main_category']).value_counts()"
   ]
  },
  {
   "cell_type": "code",
   "execution_count": 23,
   "metadata": {},
   "outputs": [
    {
     "data": {
      "text/plain": [
       "Games           5556\n",
       "Music           4634\n",
       "Design          4521\n",
       "Film & Video    4442\n",
       "Publishing      3763\n",
       "Art             3041\n",
       "Technology      2563\n",
       "Comics          2361\n",
       "Fashion         2139\n",
       "Food            1553\n",
       "Theater         1180\n",
       "Photography      839\n",
       "Crafts           826\n",
       "Dance            480\n",
       "Journalism       274\n",
       "Name: main_category, dtype: int64"
      ]
     },
     "execution_count": 23,
     "metadata": {},
     "output_type": "execute_result"
    }
   ],
   "source": [
    "pd.Series(df[df.state=='successful']['main_category']).value_counts()"
   ]
  },
  {
   "cell_type": "code",
   "execution_count": 25,
   "metadata": {},
   "outputs": [
    {
     "name": "stdout",
     "output_type": "stream",
     "text": [
      "Index(['canceled', 'failed', 'live', 'successful', 'suspended', 'undefined'], dtype='object', name='state')\n"
     ]
    }
   ],
   "source": [
    "print(df.groupby('state')['currency'].count().index)"
   ]
  },
  {
   "cell_type": "markdown",
   "metadata": {},
   "source": [
    "# Create 3 features from the titles."
   ]
  },
  {
   "cell_type": "markdown",
   "metadata": {},
   "source": [
    "## 1. misspelling"
   ]
  },
  {
   "cell_type": "code",
   "execution_count": 26,
   "metadata": {},
   "outputs": [],
   "source": [
    "#!pip install pyspellchecker\n",
    "from spellchecker import SpellChecker\n",
    "spell = SpellChecker()"
   ]
  },
  {
   "cell_type": "code",
   "execution_count": 27,
   "metadata": {},
   "outputs": [
    {
     "name": "stdout",
     "output_type": "stream",
     "text": [
      "# of titles which have misspell: 74474\n"
     ]
    }
   ],
   "source": [
    "misspell = 0\n",
    "for name,state in zip(df.name.str.lower()[:], df.state[:]):\n",
    "    # print(name)\n",
    "    try:\n",
    "        if  len(spell.unknown(name.split(\" \"))) > 0:# and state == \"successful\":\n",
    "             misspell += 1\n",
    "    except:\n",
    "        pass\n",
    "print (\"# of titles which have misspell: {}\".format(misspell))"
   ]
  },
  {
   "cell_type": "code",
   "execution_count": 28,
   "metadata": {},
   "outputs": [
    {
     "name": "stdout",
     "output_type": "stream",
     "text": [
      "# of titles which have misspell: 74474\n",
      "misspell apear in state(successful): 26689\n",
      "misspell apear in state(failed): 36738\n",
      "misspell apear in state(suspended): 553\n",
      "misspell apear in state(canceled): 10133\n",
      "misspell apear in state(undefined): 355\n",
      "misspell apear in state(not successful): 47785\n"
     ]
    }
   ],
   "source": [
    "misspell = 0\n",
    "misspell_successful= 0\n",
    "misspell_failed= 0\n",
    "misspell_suspended= 0\n",
    "misspell_canceled= 0\n",
    "misspell_undefined= 0\n",
    "for name,state in zip(df.name.str.lower()[:], df.state[:]):\n",
    "    # print(name)\n",
    "    try:\n",
    "        if  len(spell.unknown(name.split(\" \"))) > 0:# and state == \"successful\":\n",
    "             misspell += 1\n",
    "        if  len(spell.unknown(name.split(\" \"))) > 0 and state == \"successful\":\n",
    "                   misspell_successful += 1\n",
    "        if  len(spell.unknown(name.split(\" \"))) > 0 and state == \"failed\":\n",
    "                   misspell_failed += 1\n",
    "        if  len(spell.unknown(name.split(\" \"))) > 0 and state == \"suspended\":\n",
    "                   misspell_suspended += 1  \n",
    "        if  len(spell.unknown(name.split(\" \"))) > 0 and state == \"canceled\":\n",
    "                   misspell_canceled += 1\n",
    "        if  len(spell.unknown(name.split(\" \"))) > 0 and state == \"undefined\":\n",
    "                   misspell_undefined += 1\n",
    "    except:\n",
    "        pass\n",
    "print (\"# of titles which have misspell: {}\".format(misspell))\n",
    "print (\"misspell apear in state(successful): {}\".format(misspell_successful))\n",
    "print (\"misspell apear in state(failed): {}\".format(misspell_failed))\n",
    "print (\"misspell apear in state(suspended): {}\".format(misspell_suspended))\n",
    "print (\"misspell apear in state(canceled): {}\".format(misspell_canceled))\n",
    "print (\"misspell apear in state(undefined): {}\".format(misspell_undefined))\n",
    "misspell_notsuccessful=misspell-misspell_successful\n",
    "print (\"misspell apear in state(not successful): {}\".format(misspell_notsuccessful))"
   ]
  },
  {
   "cell_type": "code",
   "execution_count": 29,
   "metadata": {},
   "outputs": [
    {
     "data": {
      "image/png": "[encoded data removed]",
      "text/plain": [
       "<Figure size 576x576 with 1 Axes>"
      ]
     },
     "metadata": {
      "needs_background": "light"
     },
     "output_type": "display_data"
    }
   ],
   "source": [
    "objects = ('total', 'successful', 'failed', 'suspended', 'canceled', 'undefined')\n",
    "y_pos = np.arange(len(objects))\n",
    "performance = [misspell, misspell_successful, misspell_failed, misspell_suspended, misspell_canceled, misspell_undefined]\n",
    "plt.figure(figsize=(8,8))\n",
    "plt.bar(y_pos, performance, align='center', alpha=1, color = 'rgbkym')\n",
    "plt.xticks(y_pos, objects)\n",
    "plt.xlabel('state', fontweight='bold', color = 'b', fontsize=15)\n",
    "plt.ylabel('# of misspell', fontweight='bold', color = 'b', fontsize=15)\n",
    "plt.title('number of misspelled titles', color = 'b', fontsize=25)\n",
    "plt.show()"
   ]
  },
  {
   "cell_type": "code",
   "execution_count": 30,
   "metadata": {},
   "outputs": [
    {
     "data": {
      "image/png": "[encoded data removed]",
      "text/plain": [
       "<Figure size 360x360 with 1 Axes>"
      ]
     },
     "metadata": {
      "needs_background": "light"
     },
     "output_type": "display_data"
    }
   ],
   "source": [
    "objects = ('successful', 'not successful')\n",
    "y_pos = np.arange(len(objects))\n",
    "performance = [misspell_successful, misspell_notsuccessful]\n",
    "plt.figure(figsize=(5,5))\n",
    "plt.bar(y_pos, performance, align='center', alpha=1, color = 'gb')\n",
    "plt.xticks(y_pos, objects)\n",
    "plt.xlabel('state', fontweight='bold', color = 'b', fontsize=15)\n",
    "plt.ylabel('# of misspell', fontweight='bold', color = 'b', fontsize=15)\n",
    "plt.title('number of misspelled titles', color = 'b', fontsize=15)\n",
    "plt.show()"
   ]
  },
  {
   "cell_type": "markdown",
   "metadata": {},
   "source": [
    "## 2. positive and negative words in title"
   ]
  },
  {
   "cell_type": "markdown",
   "metadata": {},
   "source": [
    "- This file and the papers can all be downloaded from \n",
    "http://www.cs.uic.edu/~liub/FBS/sentiment-analysis.html"
   ]
  },
  {
   "cell_type": "code",
   "execution_count": 31,
   "metadata": {},
   "outputs": [],
   "source": [
    "positive_words = []\n",
    "negative_words = []\n",
    "f=open(\"positive-words.txt\", 'r')\n",
    "positive_words = [line.rstrip() for line in f.readlines()]\n",
    "f.close()\n",
    "f=open(\"negative-words.txt\", 'r')\n",
    "negative_words = [line.rstrip() for line in f.readlines()]\n",
    "f.close()\n",
    "count = 0"
   ]
  },
  {
   "cell_type": "code",
   "execution_count": 32,
   "metadata": {},
   "outputs": [
    {
     "name": "stdout",
     "output_type": "stream",
     "text": [
      "# of positive words in title: 22236\n",
      "# of positive words apear in state(successful): 7689\n",
      "# of positive words apear in state(not successful): 14547\n"
     ]
    }
   ],
   "source": [
    "pos_count = 0\n",
    "pos_count_successful = 0\n",
    "for name,state in zip(df.name.str.lower()[:], df.state[:]):\n",
    "    # print(name)\n",
    "    try:\n",
    "        words = name.split(\" \")\n",
    "        for word in words:\n",
    "            if word in positive_words:# and state == \"successful\":\n",
    "                pos_count += 1\n",
    "            if word in positive_words and state == \"successful\":\n",
    "                pos_count_successful += 1\n",
    "    except:\n",
    "        pass\n",
    "print (\"# of positive words in title: {}\".format(pos_count))\n",
    "print (\"# of positive words apear in state(successful): {}\".format(pos_count_successful))\n",
    "print (\"# of positive words apear in state(not successful): {}\".format(pos_count-pos_count_successful))"
   ]
  },
  {
   "cell_type": "code",
   "execution_count": 33,
   "metadata": {},
   "outputs": [
    {
     "name": "stdout",
     "output_type": "stream",
     "text": [
      "# of negative words in title: 13718\n",
      "# of negative words apear in state(successful): 5514\n",
      "# of negative words apear in state(not successful): 8204\n"
     ]
    }
   ],
   "source": [
    "count=0\n",
    "neg_count = 0\n",
    "neg_count_successful = 0\n",
    "for name,state in zip(df.name.str.lower()[:], df.state[:]):\n",
    "    # print(name)\n",
    "    try:\n",
    "        words = name.split(\" \")\n",
    "        for word in words:\n",
    "            if word in negative_words:# and state == \"successful\":\n",
    "                neg_count += 1\n",
    "            if word in negative_words and state == \"successful\":\n",
    "                neg_count_successful += 1\n",
    "    except:\n",
    "        pass\n",
    "print (\"# of negative words in title: {}\".format(neg_count))\n",
    "print (\"# of negative words apear in state(successful): {}\".format(neg_count_successful))\n",
    "print (\"# of negative words apear in state(not successful): {}\".format(neg_count-neg_count_successful))"
   ]
  },
  {
   "cell_type": "code",
   "execution_count": 34,
   "metadata": {},
   "outputs": [
    {
     "name": "stdout",
     "output_type": "stream",
     "text": [
      "18032 6189\n"
     ]
    }
   ],
   "source": [
    "count1 = 0\n",
    "count2 = 0\n",
    "for name,state in zip(df.name.str.lower()[:], df.state[:]):\n",
    "    # print(name)\n",
    "    try:\n",
    "        pos_count = 0\n",
    "        neg_count = 0\n",
    "        words = name.split(\" \")\n",
    "        for word in words:\n",
    "            if word in positive_words:\n",
    "                pos_count += 1\n",
    "            if word in negative_words:\n",
    "                neg_count += 1\n",
    "        # print(pos_count, neg_count)\n",
    "        if pos_count > neg_count:#  and state == \"successful\":\n",
    "             count1 += 1\n",
    "        if pos_count > neg_count  and state == \"successful\":\n",
    "             count2 += 1\n",
    "    except:\n",
    "        pass\n",
    "print(count1, count2) "
   ]
  },
  {
   "cell_type": "code",
   "execution_count": 87,
   "metadata": {},
   "outputs": [
    {
     "name": "stdout",
     "output_type": "stream",
     "text": [
      "18032 9274\n",
      "8758\n"
     ]
    }
   ],
   "source": [
    "count1 = 0\n",
    "count2 = 0\n",
    "for name,state in zip(df.name.str.lower()[:], df.state[:]):\n",
    "    # print(name)\n",
    "    try:\n",
    "        pos_count = 0\n",
    "        neg_count = 0\n",
    "        words = name.split(\" \")\n",
    "        for word in words:\n",
    "            if word in positive_words:\n",
    "                pos_count += 1\n",
    "            if word in negative_words:\n",
    "                neg_count += 1\n",
    "        # print(pos_count, neg_count)\n",
    "        if pos_count > neg_count:#  and state == \"successful\":\n",
    "             count1 += 1\n",
    "        if pos_count > neg_count  and state == \"failed\":\n",
    "             count2 += 1\n",
    "    except:\n",
    "        pass\n",
    "print(count1, count2) \n",
    "print(count1-count2)"
   ]
  },
  {
   "cell_type": "code",
   "execution_count": 88,
   "metadata": {},
   "outputs": [
    {
     "name": "stdout",
     "output_type": "stream",
     "text": [
      "10824 4356\n",
      "6468\n"
     ]
    }
   ],
   "source": [
    "count1 = 0\n",
    "count2 = 0\n",
    "for name,state in zip(df.name.str.lower()[:], df.state[:]):\n",
    "    # print(name)\n",
    "    try:\n",
    "        pos_count = 0\n",
    "        neg_count = 0\n",
    "        words = name.split(\" \")\n",
    "        for word in words:\n",
    "            if word in positive_words:\n",
    "                pos_count += 1\n",
    "            if word in negative_words:\n",
    "                neg_count += 1\n",
    "        # print(pos_count, neg_count)\n",
    "        if pos_count < neg_count:#  and state == \"successful\":\n",
    "             count1 += 1\n",
    "        if pos_count < neg_count  and state == \"successful\":\n",
    "             count2 += 1\n",
    "    except:\n",
    "        pass\n",
    "print(count1, count2)\n",
    "print(count1-count2)"
   ]
  },
  {
   "cell_type": "markdown",
   "metadata": {},
   "source": [
    "## 3. Title length"
   ]
  },
  {
   "cell_type": "code",
   "execution_count": 37,
   "metadata": {},
   "outputs": [
    {
     "name": "stdout",
     "output_type": "stream",
     "text": [
      "0.23577130248556039\n"
     ]
    }
   ],
   "source": [
    "count1 = 0\n",
    "count2 = 0\n",
    "for name,state in zip(df.name, df.state):\n",
    "    # print(name)\n",
    "    try:\n",
    "        if len(name.split(\" \")) <=2: #and state == \"successful\":\n",
    "             count1 += 1\n",
    "        if len(name.split(\" \")) <=2 and state == \"successful\":\n",
    "             count2 += 1\n",
    "    except:\n",
    "        pass\n",
    "print (count2/count1)"
   ]
  },
  {
   "cell_type": "code",
   "execution_count": 38,
   "metadata": {},
   "outputs": [
    {
     "name": "stdout",
     "output_type": "stream",
     "text": [
      "0.2538996556148288\n"
     ]
    }
   ],
   "source": [
    "count1 = 0\n",
    "count2 = 0\n",
    "for name,state in zip(df.name, df.state):\n",
    "    # print(name)\n",
    "    try:\n",
    "        if len(name.split(\" \")) <=3: #and state == \"successful\":\n",
    "             count1 += 1\n",
    "        if len(name.split(\" \")) <=3 and state == \"successful\":\n",
    "             count2 += 1\n",
    "    except:\n",
    "        pass\n",
    "print (count2/count1)"
   ]
  },
  {
   "cell_type": "code",
   "execution_count": 39,
   "metadata": {},
   "outputs": [
    {
     "name": "stdout",
     "output_type": "stream",
     "text": [
      "0.2741464770463705\n"
     ]
    }
   ],
   "source": [
    "count1 = 0\n",
    "count2 = 0\n",
    "for name,state in zip(df.name, df.state):\n",
    "    # print(name)\n",
    "    try:\n",
    "        if len(name.split(\" \")) <=4: #and state == \"successful\":\n",
    "             count1 += 1\n",
    "        if len(name.split(\" \")) <=4 and state == \"successful\":\n",
    "             count2 += 1\n",
    "    except:\n",
    "        pass\n",
    "print (count2/count1)"
   ]
  },
  {
   "cell_type": "code",
   "execution_count": 40,
   "metadata": {},
   "outputs": [
    {
     "name": "stdout",
     "output_type": "stream",
     "text": [
      "0.2929697989580909\n"
     ]
    }
   ],
   "source": [
    "count1 = 0\n",
    "count2 = 0\n",
    "for name,state in zip(df.name, df.state):\n",
    "    # print(name)\n",
    "    try:\n",
    "        if len(name.split(\" \")) <=5: #and state == \"successful\":\n",
    "             count1 += 1\n",
    "        if len(name.split(\" \")) <=5 and state == \"successful\":\n",
    "             count2 += 1\n",
    "    except:\n",
    "        pass\n",
    "print (count2/count1)"
   ]
  },
  {
   "cell_type": "code",
   "execution_count": null,
   "metadata": {},
   "outputs": [],
   "source": []
  },
  {
   "cell_type": "code",
   "execution_count": 41,
   "metadata": {},
   "outputs": [
    {
     "name": "stdout",
     "output_type": "stream",
     "text": [
      "0.24252199413489736\n"
     ]
    }
   ],
   "source": [
    "count1 = 0\n",
    "count2 = 0\n",
    "for name,state in zip(df.name, df.state):\n",
    "    # print(name)\n",
    "    try:\n",
    "        if len(name.split(\" \")) >1 and len(name.split(\" \")) <=2: #and state == \"successful\":\n",
    "             count1 += 1\n",
    "        if len(name.split(\" \")) >1 and len(name.split(\" \")) <=2 and state == \"successful\":\n",
    "             count2 += 1\n",
    "    except:\n",
    "        pass\n",
    "print (count2/count1)"
   ]
  },
  {
   "cell_type": "code",
   "execution_count": 42,
   "metadata": {},
   "outputs": [
    {
     "name": "stdout",
     "output_type": "stream",
     "text": [
      "0.2735590118938701\n"
     ]
    }
   ],
   "source": [
    "count1 = 0\n",
    "count2 = 0\n",
    "for name,state in zip(df.name, df.state):\n",
    "    # print(name)\n",
    "    try:\n",
    "        if len(name.split(\" \")) >2 and len(name.split(\" \")) <=3: #and state == \"successful\":\n",
    "             count1 += 1\n",
    "        if len(name.split(\" \")) >2 and len(name.split(\" \")) <=3 and state == \"successful\":\n",
    "             count2 += 1\n",
    "    except:\n",
    "        pass\n",
    "print (count2/count1)"
   ]
  },
  {
   "cell_type": "code",
   "execution_count": 91,
   "metadata": {},
   "outputs": [
    {
     "name": "stdout",
     "output_type": "stream",
     "text": [
      "0.4058687150183836\n"
     ]
    }
   ],
   "source": [
    "count1 = 0\n",
    "count2 = 0\n",
    "for name,state in zip(df.name, df.state):\n",
    "    # print(name)\n",
    "    try:\n",
    "        if len(name.split(\" \")) >6 and len(name.split(\" \")) <=13: #and state == \"successful\":\n",
    "             count1 += 1\n",
    "        if len(name.split(\" \")) >6 and len(name.split(\" \")) <=13 and state == \"successful\":\n",
    "             count2 += 1\n",
    "    except:\n",
    "        pass\n",
    "print (count2/count1)"
   ]
  },
  {
   "cell_type": "code",
   "execution_count": 69,
   "metadata": {},
   "outputs": [],
   "source": [
    "#efect of title length to be the successful (percentage)\n",
    "count1 = 0\n",
    "count2 = 0\n",
    "for name,state in zip(df.name, df.state):\n",
    "    # print(name)\n",
    "    try:\n",
    "        if len(name.split(\" \")) ==15: #and state == \"successful\":\n",
    "             count1 += 1\n",
    "        if len(name.split(\" \")) ==15 and state == \"successful\":\n",
    "             count2 += 1\n",
    "    except:\n",
    "        pass\n",
    "title_length_15=count2/count1\n"
   ]
  },
  {
   "cell_type": "code",
   "execution_count": 57,
   "metadata": {},
   "outputs": [],
   "source": [
    "#efect of title length to be the successful (percentage)\n",
    "title_length = [0 for _ in range(18)]\n",
    "for i in range (1, 18):\n",
    "    count1 = 0\n",
    "    count2 = 0\n",
    "    for name,state in zip(df.name, df.state):\n",
    "        # print(name)\n",
    "        try:\n",
    "            if len(name.split(\" \")) ==i: #and state == \"successful\":\n",
    "                 count1 += 1\n",
    "            if len(name.split(\" \")) ==i and state == \"successful\":\n",
    "                 count2 += 1\n",
    "        except:\n",
    "            pass\n",
    "    title_length[i] = count2/count1"
   ]
  },
  {
   "cell_type": "code",
   "execution_count": 58,
   "metadata": {},
   "outputs": [
    {
     "data": {
      "image/png": "[encoded data removed]",
      "text/plain": [
       "<Figure size 360x360 with 1 Axes>"
      ]
     },
     "metadata": {
      "needs_background": "light"
     },
     "output_type": "display_data"
    }
   ],
   "source": [
    "objects = [str(i) for i in range (1, 18)]\n",
    "y_pos = np.arange(len(objects))\n",
    "performance = title_length[1:]\n",
    "plt.figure(figsize=(5,5))\n",
    "plt.bar(y_pos, performance, align='center', alpha=1, color = 'rgbkym')\n",
    "plt.xticks(y_pos, objects)\n",
    "plt.xlabel('length of title', fontweight='bold', color = 'b', fontsize=15)\n",
    "plt.ylabel('percentage of success', fontweight='bold', color = 'b', fontsize=15)\n",
    "plt.show()"
   ]
  },
  {
   "cell_type": "code",
   "execution_count": 90,
   "metadata": {},
   "outputs": [
    {
     "data": {
      "text/plain": [
       "[0.2224367638540259,\n",
       " 0.24252199413489736,\n",
       " 0.2735590118938701,\n",
       " 0.3183830038359398,\n",
       " 0.3570358691367757,\n",
       " 0.3652281134401973,\n",
       " 0.3940870149504452,\n",
       " 0.4046863988724454,\n",
       " 0.41191489361702127,\n",
       " 0.41884297520661157,\n",
       " 0.41926140477914553,\n",
       " 0.395,\n",
       " 0.3722943722943723]"
      ]
     },
     "execution_count": 90,
     "metadata": {},
     "output_type": "execute_result"
    }
   ],
   "source": [
    "value=[title_length_1, title_length_2, title_length_3, title_length_4, title_length_5,\n",
    "title_length_6, title_length_7, title_length_8, title_length_9, title_length_10,\n",
    "title_length_11, title_length_12, title_length_13]\n",
    "value"
   ]
  },
  {
   "cell_type": "code",
   "execution_count": 86,
   "metadata": {},
   "outputs": [
    {
     "data": {
      "image/png": "[encoded data removed]",
      "text/plain": [
       "<Figure size 360x360 with 1 Axes>"
      ]
     },
     "metadata": {
      "needs_background": "light"
     },
     "output_type": "display_data"
    }
   ],
   "source": [
    "objects = ('1', '2', '3','4','5','6','7','8','9','10','11','12','13')\n",
    "y_pos = np.arange(len(objects))\n",
    "performance = value\n",
    "plt.figure(figsize=(5,5))\n",
    "plt.bar(y_pos, performance, align='center', alpha=1, color = 'rgbkym')\n",
    "plt.xticks(y_pos, objects)\n",
    "plt.xlabel('length of title', fontweight='bold', color = 'b', fontsize=15)\n",
    "plt.ylabel('percentage of success', fontweight='bold', color = 'b', fontsize=15)\n",
    "plt.show()"
   ]
  },
  {
   "cell_type": "markdown",
   "metadata": {},
   "source": [
    "### Create a function for feature engineering"
   ]
  },
  {
   "cell_type": "code",
   "execution_count": 24,
   "metadata": {},
   "outputs": [],
   "source": [
    "#!pip install pyspellchecker\n",
    "from spellchecker import SpellChecker\n",
    "spell = SpellChecker()\n",
    "def misspell_all(df):\n",
    "    misspell=0\n",
    "    for name,state in zip(df.name.str.lower()[:], df.state[:]):\n",
    "        try:\n",
    "            if  len(spell.unknown(name.split(\" \"))) > 0:# and state == \"successful\":\n",
    "                misspell += 1\n",
    "        except:\n",
    "            pass\n",
    "    return misspell"
   ]
  },
  {
   "cell_type": "code",
   "execution_count": 25,
   "metadata": {},
   "outputs": [
    {
     "data": {
      "text/plain": [
       "74474"
      ]
     },
     "execution_count": 25,
     "metadata": {},
     "output_type": "execute_result"
    }
   ],
   "source": [
    "misspell_all(df)"
   ]
  },
  {
   "cell_type": "code",
   "execution_count": 14,
   "metadata": {},
   "outputs": [
    {
     "data": {
      "text/plain": [
       "0         Organic Tattoo remains 10 days (Self use & cus...\n",
       "1         Handcrafted leather wallet | key holder | card...\n",
       "2           The Liaisons:  a new twist on the old standards\n",
       "3                        The Many Encounters of Bosley Bear\n",
       "4                    Swift & Co | Innovative Men's Footwear\n",
       "5              LEMON LIGHTS Debut Album + busking Tour 2016\n",
       "6         Help Will Abele Finish His First Full Length A...\n",
       "7         Dodo Tool. A handy tool that can travel & stay...\n",
       "8         Breathable x Water Proof hoodie w/10+ Practica...\n",
       "9                                      Jo's Travel Journals\n",
       "10                                     Homestead (Canceled)\n",
       "11                                     100 Days To Get Thru\n",
       "12                                   Pinpoint Prize STARTUP\n",
       "13                                  Giving to the community\n",
       "15                       City Rock: A New Television Series\n",
       "16                       KreatiiveNative: Aspire to Inspire\n",
       "17                                           Comical People\n",
       "18                                        Destrus (FPS RPG)\n",
       "19                                                The Libel\n",
       "21                                     Seattle RC Autodromo\n",
       "22         LOKBLOK- Revolutioninzing The Building Industry!\n",
       "23                          Changement - Student Short Film\n",
       "24                                                Sqipe App\n",
       "25                                          Shoes with Soul\n",
       "26        Laurel & Hardy: The Magic Behind the Moviesâ€“...\n",
       "27                         Smoothie Delivery Vending System\n",
       "28              Ultra-Light Personal Air Vehicle (Canceled)\n",
       "29                    Lemberlain Exotic Jellies and Spreads\n",
       "30                   Cable Carousel - Metal Cable Organizer\n",
       "31                                             Contraptions\n",
       "                                ...                        \n",
       "110785                                        Wonderwritten\n",
       "110786     CarWink _ Making the road a more connected place\n",
       "110787    Amazing story \"The Golden Key, or Adventures o...\n",
       "110788     A space for artists built with natural materials\n",
       "110789    Warped: Metaverse - A 3D Action Adventure Like...\n",
       "110790                   ImaginMe Augmented Reality Avatars\n",
       "110791        VANGANIA Handcrafted Art Jewelry and handbags\n",
       "110792    Fearless Comix presents - Fate: Arise In Darkness\n",
       "110793                     Alfareria purÃ©pecha en New York\n",
       "110794           Jay&Jo Design Watches - Designed in Canada\n",
       "110795           \"Night Life\" - For your perfect night out.\n",
       "110796                                          Ace of Rods\n",
       "110797                     Lil' Ice Cream Dude's COOL World\n",
       "110798                                                ULTRA\n",
       "110799                                ADK Bloody Mary Tonic\n",
       "110800                                   Chronicles of Hope\n",
       "110801                                     Solaris: Aisling\n",
       "110802                    The beauty of love, art & purpose\n",
       "110803                            Healthy Sustainable Sushi\n",
       "110804                                     Alpaca Balloonza\n",
       "110805                                         A Brave Face\n",
       "110806    The Money Box, A children's book about financi...\n",
       "110807                                  The Plug Apprentice\n",
       "110808                     Growing Pains Student Short Film\n",
       "110809    Squinch Magazine: An Art Publication for Colle...\n",
       "110810    Project ChArma presents Full Circle at Dance P...\n",
       "110811                              Haboob Wind - The Movie\n",
       "110812                                            Honey Pot\n",
       "110813    LOL Mugs with daily laugh and inspirational me...\n",
       "110814                  Tapagotchi - Mobile Virtual Pet RPG\n",
       "Name: name, Length: 109986, dtype: object"
      ]
     },
     "execution_count": 14,
     "metadata": {},
     "output_type": "execute_result"
    }
   ],
   "source": [
    "df.name"
   ]
  },
  {
   "cell_type": "code",
   "execution_count": null,
   "metadata": {},
   "outputs": [],
   "source": [
    "print (\"# of titles which have misspell: {}\".format(misspell))"
   ]
  },
  {
   "cell_type": "code",
   "execution_count": 6,
   "metadata": {},
   "outputs": [],
   "source": [
    "df=df.dropna()"
   ]
  },
  {
   "cell_type": "code",
   "execution_count": 11,
   "metadata": {},
   "outputs": [
    {
     "data": {
      "text/plain": [
       "ID                  0\n",
       "name                0\n",
       "category            0\n",
       "main_category       0\n",
       "currency            0\n",
       "deadline            0\n",
       "goal                0\n",
       "launched            0\n",
       "pledged             0\n",
       "state               0\n",
       "backers             0\n",
       "country             0\n",
       "usd pledged         0\n",
       "usd_pledged_real    0\n",
       "usd_goal_real       0\n",
       "dtype: int64"
      ]
     },
     "execution_count": 11,
     "metadata": {},
     "output_type": "execute_result"
    }
   ],
   "source": [
    "df.isna().sum()"
   ]
  },
  {
   "cell_type": "code",
   "execution_count": 72,
   "metadata": {},
   "outputs": [
    {
     "data": {
      "text/plain": [
       "[1, 2, 3, 4, 5, 6, 7]"
      ]
     },
     "execution_count": 72,
     "metadata": {},
     "output_type": "execute_result"
    }
   ],
   "source": [
    "list1=[3,2,4,5,6,7,1]\n",
    "list1.sort()\n",
    "list1"
   ]
  },
  {
   "cell_type": "code",
   "execution_count": 74,
   "metadata": {},
   "outputs": [
    {
     "data": {
      "text/plain": [
       "[1, 2, 3, 4, 5, 6, 7]"
      ]
     },
     "execution_count": 74,
     "metadata": {},
     "output_type": "execute_result"
    }
   ],
   "source": [
    "list1=[3,2,4,5,6,7,1]\n",
    "sorted(list1)"
   ]
  },
  {
   "cell_type": "code",
   "execution_count": 75,
   "metadata": {},
   "outputs": [
    {
     "data": {
      "text/plain": [
       "[3, 2, 4, 5, 6, 7, 1]"
      ]
     },
     "execution_count": 75,
     "metadata": {},
     "output_type": "execute_result"
    }
   ],
   "source": [
    "list1"
   ]
  },
  {
   "cell_type": "code",
   "execution_count": 81,
   "metadata": {},
   "outputs": [
    {
     "data": {
      "text/html": [
       "<div>\n",
       "<style scoped>\n",
       "    .dataframe tbody tr th:only-of-type {\n",
       "        vertical-align: middle;\n",
       "    }\n",
       "\n",
       "    .dataframe tbody tr th {\n",
       "        vertical-align: top;\n",
       "    }\n",
       "\n",
       "    .dataframe thead th {\n",
       "        text-align: right;\n",
       "    }\n",
       "</style>\n",
       "<table border=\"1\" class=\"dataframe\">\n",
       "  <thead>\n",
       "    <tr style=\"text-align: right;\">\n",
       "      <th></th>\n",
       "      <th>ID</th>\n",
       "      <th>name</th>\n",
       "      <th>category</th>\n",
       "      <th>main_category</th>\n",
       "      <th>currency</th>\n",
       "      <th>deadline</th>\n",
       "      <th>goal</th>\n",
       "      <th>launched</th>\n",
       "      <th>pledged</th>\n",
       "      <th>state</th>\n",
       "      <th>backers</th>\n",
       "      <th>country</th>\n",
       "      <th>usd pledged</th>\n",
       "      <th>usd_pledged_real</th>\n",
       "      <th>usd_goal_real</th>\n",
       "    </tr>\n",
       "  </thead>\n",
       "  <tbody>\n",
       "    <tr>\n",
       "      <th>110814</th>\n",
       "      <td>997184429</td>\n",
       "      <td>Tapagotchi - Mobile Virtual Pet RPG</td>\n",
       "      <td>Mobile Games</td>\n",
       "      <td>Games</td>\n",
       "      <td>AUD</td>\n",
       "      <td>2017-12-31</td>\n",
       "      <td>10000</td>\n",
       "      <td>2017-12-01 08:12:00</td>\n",
       "      <td>20.0</td>\n",
       "      <td>canceled</td>\n",
       "      <td>2</td>\n",
       "      <td>AU</td>\n",
       "      <td>15.17</td>\n",
       "      <td>15.68</td>\n",
       "      <td>7841.29</td>\n",
       "    </tr>\n",
       "    <tr>\n",
       "      <th>10910</th>\n",
       "      <td>810128684</td>\n",
       "      <td>My Secret Garden (Canceled)</td>\n",
       "      <td>Woodworking</td>\n",
       "      <td>Crafts</td>\n",
       "      <td>USD</td>\n",
       "      <td>2016-03-11</td>\n",
       "      <td>1500</td>\n",
       "      <td>2016-02-10 18:21:00</td>\n",
       "      <td>0.0</td>\n",
       "      <td>canceled</td>\n",
       "      <td>0</td>\n",
       "      <td>US</td>\n",
       "      <td>0.00</td>\n",
       "      <td>0.00</td>\n",
       "      <td>1500.00</td>\n",
       "    </tr>\n",
       "  </tbody>\n",
       "</table>\n",
       "</div>"
      ],
      "text/plain": [
       "               ID                                 name      category  \\\n",
       "110814  997184429  Tapagotchi - Mobile Virtual Pet RPG  Mobile Games   \n",
       "10910   810128684          My Secret Garden (Canceled)   Woodworking   \n",
       "\n",
       "       main_category currency   deadline   goal            launched  pledged  \\\n",
       "110814         Games      AUD 2017-12-31  10000 2017-12-01 08:12:00     20.0   \n",
       "10910         Crafts      USD 2016-03-11   1500 2016-02-10 18:21:00      0.0   \n",
       "\n",
       "           state  backers country  usd pledged  usd_pledged_real  \\\n",
       "110814  canceled        2      AU        15.17             15.68   \n",
       "10910   canceled        0      US         0.00              0.00   \n",
       "\n",
       "        usd_goal_real  \n",
       "110814        7841.29  \n",
       "10910         1500.00  "
      ]
     },
     "execution_count": 81,
     "metadata": {},
     "output_type": "execute_result"
    }
   ],
   "source": [
    "df.sort_values(by=['state']).head(2)"
   ]
  },
  {
   "cell_type": "code",
   "execution_count": 82,
   "metadata": {},
   "outputs": [
    {
     "data": {
      "text/plain": [
       "5"
      ]
     },
     "execution_count": 82,
     "metadata": {},
     "output_type": "execute_result"
    }
   ],
   "source": [
    "list1.index(7)"
   ]
  },
  {
   "cell_type": "code",
   "execution_count": 83,
   "metadata": {},
   "outputs": [
    {
     "data": {
      "text/plain": [
       "[3, 2, 4, 5, 6, 7, 1]"
      ]
     },
     "execution_count": 83,
     "metadata": {},
     "output_type": "execute_result"
    }
   ],
   "source": [
    "list1"
   ]
  },
  {
   "cell_type": "code",
   "execution_count": 84,
   "metadata": {},
   "outputs": [],
   "source": [
    "list1.insert(5,2)"
   ]
  },
  {
   "cell_type": "code",
   "execution_count": 85,
   "metadata": {},
   "outputs": [
    {
     "data": {
      "text/plain": [
       "[3, 2, 4, 5, 6, 2, 7, 1]"
      ]
     },
     "execution_count": 85,
     "metadata": {},
     "output_type": "execute_result"
    }
   ],
   "source": [
    "list1"
   ]
  },
  {
   "cell_type": "code",
   "execution_count": 86,
   "metadata": {},
   "outputs": [],
   "source": [
    "list1.insert(0,'a')"
   ]
  },
  {
   "cell_type": "code",
   "execution_count": 87,
   "metadata": {},
   "outputs": [
    {
     "data": {
      "text/plain": [
       "['a', 3, 2, 4, 5, 6, 2, 7, 1]"
      ]
     },
     "execution_count": 87,
     "metadata": {},
     "output_type": "execute_result"
    }
   ],
   "source": [
    "list1"
   ]
  },
  {
   "cell_type": "code",
   "execution_count": 107,
   "metadata": {},
   "outputs": [],
   "source": [
    "#self ornek\n",
    "class car():\n",
    "    def __init__(self, m):\n",
    "        self.model = m\n",
    "    def run(self):\n",
    "        print(\"I am running\" + ' '+ self.model)"
   ]
  },
  {
   "cell_type": "code",
   "execution_count": 108,
   "metadata": {},
   "outputs": [
    {
     "name": "stdout",
     "output_type": "stream",
     "text": [
      "I am running Toyota\n",
      "I am running Sahin\n"
     ]
    }
   ],
   "source": [
    "my_car = car(\"Toyota\")\n",
    "my_car.run()\n",
    "\n",
    "your_car = car(\"Sahin\")\n",
    "your_car.run()"
   ]
  },
  {
   "cell_type": "code",
   "execution_count": 121,
   "metadata": {},
   "outputs": [
    {
     "name": "stdout",
     "output_type": "stream",
     "text": [
      "0.0\n"
     ]
    }
   ],
   "source": [
    "import time\n",
    "start = time. time()\n",
    "\"the code you want to test stays here\"\n",
    "end = time. time()\n",
    "print(end - start)"
   ]
  },
  {
   "cell_type": "code",
   "execution_count": 129,
   "metadata": {},
   "outputs": [
    {
     "name": "stdout",
     "output_type": "stream",
     "text": [
      "45.783753395080566\n"
     ]
    }
   ],
   "source": [
    "start = time. time()\n",
    "def cube_numbers(nums):  \n",
    "    cube_list =[]\n",
    "    for i in nums:\n",
    "        cube_list.append(i**3)\n",
    "    return cube_list\n",
    "\n",
    "cubes = cube_numbers([i for i in range (100000000)])\n",
    "\n",
    "end = time. time()\n",
    "print(end - start)"
   ]
  },
  {
   "cell_type": "code",
   "execution_count": 130,
   "metadata": {},
   "outputs": [
    {
     "name": "stdout",
     "output_type": "stream",
     "text": [
      "7.299248933792114\n"
     ]
    }
   ],
   "source": [
    "start = time. time()\n",
    "def cube_numbers(nums):  \n",
    "    for i in nums:\n",
    "        yield(i**3)\n",
    "\n",
    "cubes = cube_numbers([i for i in range (100000000)])\n",
    "\n",
    "\n",
    "end = time. time()\n",
    "print(end - start)"
   ]
  },
  {
   "cell_type": "code",
   "execution_count": 132,
   "metadata": {},
   "outputs": [
    {
     "name": "stdout",
     "output_type": "stream",
     "text": [
      "{'brand': 'Ford', 'model': 'Mustang', 'year': 1964}\n"
     ]
    }
   ],
   "source": [
    "thisdict =\t{\n",
    "  \"brand\": \"Ford\",\n",
    "  \"model\": \"Mustang\",\n",
    "  \"year\": 1964\n",
    "}\n",
    "print(thisdict)"
   ]
  },
  {
   "cell_type": "code",
   "execution_count": 133,
   "metadata": {},
   "outputs": [
    {
     "data": {
      "text/plain": [
       "'Ford'"
      ]
     },
     "execution_count": 133,
     "metadata": {},
     "output_type": "execute_result"
    }
   ],
   "source": [
    "thisdict['brand']"
   ]
  },
  {
   "cell_type": "code",
   "execution_count": 135,
   "metadata": {},
   "outputs": [],
   "source": [
    "dictnry={\"A\": [1,2,3,4,5,6], \"B\":['a','b', 'c', 'd', 'e', 'f']}"
   ]
  },
  {
   "cell_type": "code",
   "execution_count": 136,
   "metadata": {},
   "outputs": [
    {
     "data": {
      "text/plain": [
       "[1, 2, 3, 4, 5, 6]"
      ]
     },
     "execution_count": 136,
     "metadata": {},
     "output_type": "execute_result"
    }
   ],
   "source": [
    "dictnry['A']"
   ]
  },
  {
   "cell_type": "code",
   "execution_count": 138,
   "metadata": {},
   "outputs": [],
   "source": [
    "dictnry[\"A\"][0]=15"
   ]
  },
  {
   "cell_type": "code",
   "execution_count": 140,
   "metadata": {},
   "outputs": [
    {
     "data": {
      "text/plain": [
       "[15, 2, 3, 4, 5, 6]"
      ]
     },
     "execution_count": 140,
     "metadata": {},
     "output_type": "execute_result"
    }
   ],
   "source": [
    "dictnry[\"A\"]"
   ]
  },
  {
   "cell_type": "code",
   "execution_count": 146,
   "metadata": {},
   "outputs": [
    {
     "name": "stdout",
     "output_type": "stream",
     "text": [
      "Ford\n",
      "Mustang\n",
      "1964\n"
     ]
    }
   ],
   "source": [
    "for x in thisdict.values():\n",
    "  print(x)"
   ]
  },
  {
   "cell_type": "code",
   "execution_count": 144,
   "metadata": {},
   "outputs": [
    {
     "data": {
      "text/plain": [
       "dict_values(['Ford', 'Mustang', 1964])"
      ]
     },
     "execution_count": 144,
     "metadata": {},
     "output_type": "execute_result"
    }
   ],
   "source": [
    "thisdict.values()"
   ]
  },
  {
   "cell_type": "code",
   "execution_count": 147,
   "metadata": {},
   "outputs": [],
   "source": [
    "dictionary={'brand':\"Ford\", \"Model\":\"Mustang\", \"year\":1964}"
   ]
  },
  {
   "cell_type": "code",
   "execution_count": 148,
   "metadata": {},
   "outputs": [
    {
     "name": "stdout",
     "output_type": "stream",
     "text": [
      "brand\n",
      "Model\n",
      "year\n"
     ]
    }
   ],
   "source": [
    "for x in dictionary:\n",
    "    print(x)"
   ]
  },
  {
   "cell_type": "code",
   "execution_count": 149,
   "metadata": {},
   "outputs": [
    {
     "name": "stdout",
     "output_type": "stream",
     "text": [
      "Ford\n",
      "Mustang\n",
      "1964\n"
     ]
    }
   ],
   "source": [
    "for x in dictionary:\n",
    "    print(dictionary[x])"
   ]
  },
  {
   "cell_type": "code",
   "execution_count": 150,
   "metadata": {},
   "outputs": [
    {
     "name": "stdout",
     "output_type": "stream",
     "text": [
      "Ford\n",
      "Mustang\n",
      "1964\n"
     ]
    }
   ],
   "source": [
    "for x in dictionary.values():\n",
    "    print(x)"
   ]
  },
  {
   "cell_type": "code",
   "execution_count": 151,
   "metadata": {},
   "outputs": [
    {
     "name": "stdout",
     "output_type": "stream",
     "text": [
      "brand Ford\n",
      "Model Mustang\n",
      "year 1964\n"
     ]
    }
   ],
   "source": [
    "for x, y in dictionary.items():\n",
    "  print(x, y)"
   ]
  },
  {
   "cell_type": "code",
   "execution_count": 152,
   "metadata": {},
   "outputs": [
    {
     "name": "stdout",
     "output_type": "stream",
     "text": [
      "3\n"
     ]
    }
   ],
   "source": [
    "print(len(dictionary))"
   ]
  },
  {
   "cell_type": "code",
   "execution_count": 153,
   "metadata": {},
   "outputs": [],
   "source": [
    "dictionary['color']='red'"
   ]
  },
  {
   "cell_type": "code",
   "execution_count": 154,
   "metadata": {},
   "outputs": [
    {
     "data": {
      "text/plain": [
       "{'brand': 'Ford', 'Model': 'Mustang', 'year': 1964, 'color': 'red'}"
      ]
     },
     "execution_count": 154,
     "metadata": {},
     "output_type": "execute_result"
    }
   ],
   "source": [
    "dictionary"
   ]
  },
  {
   "cell_type": "code",
   "execution_count": 155,
   "metadata": {},
   "outputs": [
    {
     "data": {
      "text/plain": [
       "{'brand': 'Ford', 'Model': 'Mustang', 'year': 1964}"
      ]
     },
     "execution_count": 155,
     "metadata": {},
     "output_type": "execute_result"
    }
   ],
   "source": [
    "dictionary.pop(\"color\")\n",
    "dictionary"
   ]
  },
  {
   "cell_type": "code",
   "execution_count": 156,
   "metadata": {},
   "outputs": [
    {
     "data": {
      "text/plain": [
       "{'brand': 'Ford', 'Model': 'Mustang'}"
      ]
     },
     "execution_count": 156,
     "metadata": {},
     "output_type": "execute_result"
    }
   ],
   "source": [
    "dictionary.popitem()\n",
    "dictionary"
   ]
  },
  {
   "cell_type": "code",
   "execution_count": 158,
   "metadata": {},
   "outputs": [
    {
     "data": {
      "text/plain": [
       "{'Model': 'Mustang'}"
      ]
     },
     "execution_count": 158,
     "metadata": {},
     "output_type": "execute_result"
    }
   ],
   "source": [
    "del dictionary['brand']\n",
    "dictionary"
   ]
  },
  {
   "cell_type": "code",
   "execution_count": 159,
   "metadata": {},
   "outputs": [],
   "source": [
    "data = (\n",
    "\n",
    "'''object_id, (children_object_id, children_classname), .... \n",
    "\n",
    "111, (124, NCString), (132, NSArray), (176, __ProfilePicVC)\n",
    "\n",
    "121, (126, __NCString)\n",
    "\n",
    "131, (145, NewsFeedVC), (3452, Malloc)\n",
    "\n",
    "432, (213, PhotoGaller)''')"
   ]
  },
  {
   "cell_type": "code",
   "execution_count": 161,
   "metadata": {},
   "outputs": [
    {
     "data": {
      "text/plain": [
       "['object_id, (children_object_id, children_classname), .... ',\n",
       " '',\n",
       " '111, (124, NCString), (132, NSArray), (176, __ProfilePicVC)',\n",
       " '',\n",
       " '121, (126, __NCString)',\n",
       " '',\n",
       " '131, (145, NewsFeedVC), (3452, Malloc)',\n",
       " '',\n",
       " '432, (213, PhotoGaller)']"
      ]
     },
     "execution_count": 161,
     "metadata": {},
     "output_type": "execute_result"
    }
   ],
   "source": [
    "data.split(\"\\n\")['children_object_id'].max()"
   ]
  },
  {
   "cell_type": "code",
   "execution_count": 174,
   "metadata": {},
   "outputs": [
    {
     "data": {
      "text/plain": [
       "['object_id, (children_object_id, children_classname), .... ',\n",
       " '',\n",
       " '111, (124, NCString), (132, NSArray), (176, __ProfilePicVC)',\n",
       " '',\n",
       " '121, (126, __NCString)',\n",
       " '',\n",
       " '131, (145, NewsFeedVC), (3452, Malloc)',\n",
       " '',\n",
       " '432, (213, PhotoGaller)']"
      ]
     },
     "execution_count": 174,
     "metadata": {},
     "output_type": "execute_result"
    }
   ],
   "source": [
    "df=data.split(\"\\n\")"
   ]
  },
  {
   "cell_type": "code",
   "execution_count": 175,
   "metadata": {},
   "outputs": [],
   "source": [
    "import pandas as pd"
   ]
  },
  {
   "cell_type": "code",
   "execution_count": 179,
   "metadata": {},
   "outputs": [
    {
     "data": {
      "text/html": [
       "<div>\n",
       "<style scoped>\n",
       "    .dataframe tbody tr th:only-of-type {\n",
       "        vertical-align: middle;\n",
       "    }\n",
       "\n",
       "    .dataframe tbody tr th {\n",
       "        vertical-align: top;\n",
       "    }\n",
       "\n",
       "    .dataframe thead th {\n",
       "        text-align: right;\n",
       "    }\n",
       "</style>\n",
       "<table border=\"1\" class=\"dataframe\">\n",
       "  <thead>\n",
       "    <tr style=\"text-align: right;\">\n",
       "      <th></th>\n",
       "      <th>0</th>\n",
       "    </tr>\n",
       "  </thead>\n",
       "  <tbody>\n",
       "    <tr>\n",
       "      <th>0</th>\n",
       "      <td>object_id, (children_object_id, children_class...</td>\n",
       "    </tr>\n",
       "    <tr>\n",
       "      <th>1</th>\n",
       "      <td></td>\n",
       "    </tr>\n",
       "    <tr>\n",
       "      <th>2</th>\n",
       "      <td>111, (124, NCString), (132, NSArray), (176, __...</td>\n",
       "    </tr>\n",
       "    <tr>\n",
       "      <th>3</th>\n",
       "      <td></td>\n",
       "    </tr>\n",
       "    <tr>\n",
       "      <th>4</th>\n",
       "      <td>121, (126, __NCString)</td>\n",
       "    </tr>\n",
       "    <tr>\n",
       "      <th>5</th>\n",
       "      <td></td>\n",
       "    </tr>\n",
       "    <tr>\n",
       "      <th>6</th>\n",
       "      <td>131, (145, NewsFeedVC), (3452, Malloc)</td>\n",
       "    </tr>\n",
       "    <tr>\n",
       "      <th>7</th>\n",
       "      <td></td>\n",
       "    </tr>\n",
       "    <tr>\n",
       "      <th>8</th>\n",
       "      <td>432, (213, PhotoGaller)</td>\n",
       "    </tr>\n",
       "  </tbody>\n",
       "</table>\n",
       "</div>"
      ],
      "text/plain": [
       "                                                   0\n",
       "0  object_id, (children_object_id, children_class...\n",
       "1                                                   \n",
       "2  111, (124, NCString), (132, NSArray), (176, __...\n",
       "3                                                   \n",
       "4                             121, (126, __NCString)\n",
       "5                                                   \n",
       "6             131, (145, NewsFeedVC), (3452, Malloc)\n",
       "7                                                   \n",
       "8                            432, (213, PhotoGaller)"
      ]
     },
     "execution_count": 179,
     "metadata": {},
     "output_type": "execute_result"
    }
   ],
   "source": [
    "pd.DataFrame(df)"
   ]
  }
 ],
 "metadata": {
  "kernelspec": {
   "display_name": "Python 3",
   "language": "python",
   "name": "python3"
  },
  "language_info": {
   "codemirror_mode": {
    "name": "ipython",
    "version": 3
   },
   "file_extension": ".py",
   "mimetype": "text/x-python",
   "name": "python",
   "nbconvert_exporter": "python",
   "pygments_lexer": "ipython3",
   "version": "3.6.7"
  }
 },
 "nbformat": 4,
 "nbformat_minor": 2
}
